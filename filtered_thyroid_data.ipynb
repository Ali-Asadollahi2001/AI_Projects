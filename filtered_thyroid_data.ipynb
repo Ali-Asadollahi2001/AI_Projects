import pandas as pd
 
 df = pd.read_csv("filtered_thyroid_data.csv")
 
 
 
 features = df.drop("Recurred", axis=1)
 labels = df["Recurred"]
 
 
 from sklearn.preprocessing import LabelEncoder
 features = features.apply(LabelEncoder().fit_transform)
 labels = LabelEncoder().fit_transform(labels)
 
 
 from sklearn.model_selection import train_test_split
 
 features_train, features_test, labels_train, labels_test = train_test_split(features, labels, test_size=0.2, random_state=0)
 
 
 
 import numpy as np
 features_train = np.array(features_train)
 features_test = np.array(features_test)
 labels_train = np.array(labels_train)
 labels_test = np.array(labels_test)
 
 
 from sklearn.preprocessing import MinMaxScaler
 scaler = MinMaxScaler()
 features_train = scaler.fit_transform(features_train)
 features_test = scaler.transform(features_test)
 
 
 import tensorflow as tf
 from tensorflow import keras
 
 def create_model(hidden_units=128, optimizer="adam"):
   model = keras.Sequential()
   model.add(keras.layers.Input(shape=(12,)))
   model.add(keras.layers.Dense(units=hidden_units, activation="relu"))
   model.add(keras.layers.Dropout(0.2))
   model.add(keras.layers.Dense(units=hidden_units, activation="relu"))
   model.add(keras.layers.Dropout(0.5))
   model.add(keras.layers.Dense(units=hidden_units, activation="relu"))
   model.add(keras.layers.Dropout(0.3))
   model.add(keras.layers.Dense(units=hidden_units, activation="relu"))
   model.add(keras.layers.Dropout(0.5))
   model.add(keras.layers.Dense(units=1, activation="sigmoid"))
 
   model.compile(optimizer=optimizer, loss=tf.losses.binary_crossentropy, metrics=["accuracy"])
 
   return model
 
 
 x_train, x_val, y_train, y_val = train_test_split(features_train, labels_train, test_size=0.2, random_state=42)
 
 
 
 from sklearn.model_selection import StratifiedKFold
 from sklearn.metrics import accuracy_score
 kf = StratifiedKFold(n_splits=5, shuffle=True)
 
 
 
 acc_total = []
 
 for train_index, validation_index in kf.split(features_train, labels_train):
   x_train = features_train[train_index]
   y_train = labels_train[train_index]
 
   x_val = features_train[validation_index]
   y_val = labels_train[validation_index]
 
   model = create_model()
   model.fit(x_train, y_train, epochs=20, batch_size=32, validation_data=(x_val, y_val), verbose=2)
 
   y_pred = model.predict(x_val)
   y_pred = (y_pred > 0.5).astype("int32")
 
   acc = accuracy_score(y_true=y_val, y_pred=y_pred)
   acc_total.append(acc)
 
 
 
 
 acc_total
 
 import numpy as np
 np.mean(acc_total)